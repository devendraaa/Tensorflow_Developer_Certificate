{
  "nbformat": 4,
  "nbformat_minor": 0,
  "metadata": {
    "colab": {
      "name": "tensorflow_basic_tutorials.ipynb",
      "provenance": []
    },
    "kernelspec": {
      "name": "python3",
      "display_name": "Python 3"
    },
    "language_info": {
      "name": "python"
    }
  },
  "cells": [
    {
      "cell_type": "markdown",
      "metadata": {
        "id": "iixIR_RM4rWH"
      },
      "source": [
        "intro to tensor"
      ]
    },
    {
      "cell_type": "code",
      "metadata": {
        "colab": {
          "base_uri": "https://localhost:8080/"
        },
        "id": "_3-xegKY4t46",
        "outputId": "5024123f-3c99-44af-d6e8-55887fe01730"
      },
      "source": [
        "import tensorflow as tf\n",
        "print(tf.__version__)"
      ],
      "execution_count": null,
      "outputs": [
        {
          "output_type": "stream",
          "text": [
            "2.5.0\n"
          ],
          "name": "stdout"
        }
      ]
    },
    {
      "cell_type": "code",
      "metadata": {
        "id": "iGFxfFQj4t7n"
      },
      "source": [
        "#creating tensor first with tf.constant()"
      ],
      "execution_count": null,
      "outputs": []
    },
    {
      "cell_type": "code",
      "metadata": {
        "colab": {
          "base_uri": "https://localhost:8080/"
        },
        "id": "Yn8VtLN75MLf",
        "outputId": "e804ee4c-f96b-4bab-989a-1295ada4fffa"
      },
      "source": [
        "scalar = tf.constant(7)\n",
        "scalar"
      ],
      "execution_count": null,
      "outputs": [
        {
          "output_type": "execute_result",
          "data": {
            "text/plain": [
              "<tf.Tensor: shape=(), dtype=int32, numpy=7>"
            ]
          },
          "metadata": {
            "tags": []
          },
          "execution_count": 4
        }
      ]
    },
    {
      "cell_type": "code",
      "metadata": {
        "colab": {
          "base_uri": "https://localhost:8080/"
        },
        "id": "xuKwc7i65WKE",
        "outputId": "aed174d3-b89c-49ab-9b4e-39a46a6ae16e"
      },
      "source": [
        "#check the number of tensor (ndim )\n",
        "scalar.ndim"
      ],
      "execution_count": null,
      "outputs": [
        {
          "output_type": "execute_result",
          "data": {
            "text/plain": [
              "0"
            ]
          },
          "metadata": {
            "tags": []
          },
          "execution_count": 5
        }
      ]
    },
    {
      "cell_type": "code",
      "metadata": {
        "colab": {
          "base_uri": "https://localhost:8080/"
        },
        "id": "1WUXmVKV5ufG",
        "outputId": "231cc823-516b-4a4b-ae59-351284c4991b"
      },
      "source": [
        "#create a vector\n",
        "vector = tf.constant([10, 10])\n",
        "vector"
      ],
      "execution_count": null,
      "outputs": [
        {
          "output_type": "execute_result",
          "data": {
            "text/plain": [
              "<tf.Tensor: shape=(2,), dtype=int32, numpy=array([10, 10], dtype=int32)>"
            ]
          },
          "metadata": {
            "tags": []
          },
          "execution_count": 6
        }
      ]
    },
    {
      "cell_type": "code",
      "metadata": {
        "colab": {
          "base_uri": "https://localhost:8080/"
        },
        "id": "t9-F9FxU51pi",
        "outputId": "806c051d-5bd6-40a1-cebb-d8e9808e5807"
      },
      "source": [
        "vector.ndim"
      ],
      "execution_count": null,
      "outputs": [
        {
          "output_type": "execute_result",
          "data": {
            "text/plain": [
              "1"
            ]
          },
          "metadata": {
            "tags": []
          },
          "execution_count": 7
        }
      ]
    },
    {
      "cell_type": "code",
      "metadata": {
        "colab": {
          "base_uri": "https://localhost:8080/"
        },
        "id": "jMIztWoO5_AL",
        "outputId": "7395dbab-e167-4f76-9485-19fd27f41e3f"
      },
      "source": [
        "# create a metrix\n",
        "metrix = tf.constant([[10, 7], [7,10]])\n",
        "metrix"
      ],
      "execution_count": null,
      "outputs": [
        {
          "output_type": "execute_result",
          "data": {
            "text/plain": [
              "<tf.Tensor: shape=(2, 2), dtype=int32, numpy=\n",
              "array([[10,  7],\n",
              "       [ 7, 10]], dtype=int32)>"
            ]
          },
          "metadata": {
            "tags": []
          },
          "execution_count": 8
        }
      ]
    },
    {
      "cell_type": "code",
      "metadata": {
        "colab": {
          "base_uri": "https://localhost:8080/"
        },
        "id": "g_xY02r76Mg7",
        "outputId": "35ffa4bc-b4b9-4d25-f71d-93630f194a71"
      },
      "source": [
        "metrix.ndim"
      ],
      "execution_count": null,
      "outputs": [
        {
          "output_type": "execute_result",
          "data": {
            "text/plain": [
              "2"
            ]
          },
          "metadata": {
            "tags": []
          },
          "execution_count": 9
        }
      ]
    },
    {
      "cell_type": "code",
      "metadata": {
        "colab": {
          "base_uri": "https://localhost:8080/"
        },
        "id": "3YNqNuvy6YU-",
        "outputId": "6e9f6e67-455b-4b90-e268-1f745f1ef3bd"
      },
      "source": [
        "#create a anothe mertix\n",
        "creat_metric = tf.constant([[10.,7], [3.,7],[8,.9]], dtype= tf.float16)\n",
        "creat_metric"
      ],
      "execution_count": null,
      "outputs": [
        {
          "output_type": "execute_result",
          "data": {
            "text/plain": [
              "<tf.Tensor: shape=(3, 2), dtype=float16, numpy=\n",
              "array([[10. ,  7. ],\n",
              "       [ 3. ,  7. ],\n",
              "       [ 8. ,  0.9]], dtype=float16)>"
            ]
          },
          "metadata": {
            "tags": []
          },
          "execution_count": 10
        }
      ]
    },
    {
      "cell_type": "code",
      "metadata": {
        "colab": {
          "base_uri": "https://localhost:8080/"
        },
        "id": "AWdjlWTi6xnu",
        "outputId": "6befd7e3-e304-4f24-d8b7-375d00b3cf1c"
      },
      "source": [
        "creat_metric.ndim"
      ],
      "execution_count": null,
      "outputs": [
        {
          "output_type": "execute_result",
          "data": {
            "text/plain": [
              "2"
            ]
          },
          "metadata": {
            "tags": []
          },
          "execution_count": 11
        }
      ]
    },
    {
      "cell_type": "code",
      "metadata": {
        "colab": {
          "base_uri": "https://localhost:8080/"
        },
        "id": "ee8-RF8Q7MfB",
        "outputId": "b848bfa9-a6f7-4f64-9242-0a0d4a008a8a"
      },
      "source": [
        "# lets create a tensor\n",
        "tensor = tf.constant([[[1,2,3],\n",
        "                       [4,5,6]],\n",
        "                      \n",
        "                       [[7,8,9],\n",
        "                      [10,11,12]]\n",
        "                      ,\n",
        "                     [[13,14,15],\n",
        "                      [16,17,18]]])\n",
        "tensor"
      ],
      "execution_count": null,
      "outputs": [
        {
          "output_type": "execute_result",
          "data": {
            "text/plain": [
              "<tf.Tensor: shape=(3, 2, 3), dtype=int32, numpy=\n",
              "array([[[ 1,  2,  3],\n",
              "        [ 4,  5,  6]],\n",
              "\n",
              "       [[ 7,  8,  9],\n",
              "        [10, 11, 12]],\n",
              "\n",
              "       [[13, 14, 15],\n",
              "        [16, 17, 18]]], dtype=int32)>"
            ]
          },
          "metadata": {
            "tags": []
          },
          "execution_count": 12
        }
      ]
    },
    {
      "cell_type": "code",
      "metadata": {
        "colab": {
          "base_uri": "https://localhost:8080/"
        },
        "id": "HK30A9lw8pS1",
        "outputId": "50b55c16-cee0-44eb-d063-b9bed36496fe"
      },
      "source": [
        "tensor.ndim"
      ],
      "execution_count": null,
      "outputs": [
        {
          "output_type": "execute_result",
          "data": {
            "text/plain": [
              "3"
            ]
          },
          "metadata": {
            "tags": []
          },
          "execution_count": 17
        }
      ]
    },
    {
      "cell_type": "code",
      "metadata": {
        "id": "hn6Vq5yv81Nb"
      },
      "source": [
        "# a scalar is a single number -- 0 dim\n",
        "# a vector is number with direction (wind speed, and direction) -- 1 dim \n",
        "# matrix is 2nd dime array of numbers -- 2 dim\n",
        "# a tensor is n-dim array of numbers(where n can be any number ) -- any dim"
      ],
      "execution_count": null,
      "outputs": []
    },
    {
      "cell_type": "markdown",
      "metadata": {
        "id": "kZyNr2wq9szC"
      },
      "source": [
        "creating tensor with tf.variable"
      ]
    },
    {
      "cell_type": "code",
      "metadata": {
        "colab": {
          "base_uri": "https://localhost:8080/"
        },
        "id": "u-UE4KVK9juI",
        "outputId": "7d0efe70-37c6-4d1e-d3c1-6ba830dba403"
      },
      "source": [
        "# create the same tensor with tf.variable\n",
        "changeable_tensor = tf.Variable([10,7])\n",
        "unchangeable_tensor = tf.constant([10,7])\n",
        "changeable_tensor, unchangeable_tensor "
      ],
      "execution_count": null,
      "outputs": [
        {
          "output_type": "execute_result",
          "data": {
            "text/plain": [
              "(<tf.Variable 'Variable:0' shape=(2,) dtype=int32, numpy=array([10,  7], dtype=int32)>,\n",
              " <tf.Tensor: shape=(2,), dtype=int32, numpy=array([10,  7], dtype=int32)>)"
            ]
          },
          "metadata": {
            "tags": []
          },
          "execution_count": 18
        }
      ]
    },
    {
      "cell_type": "code",
      "metadata": {
        "colab": {
          "base_uri": "https://localhost:8080/",
          "height": 189
        },
        "id": "n4_PsHJB_Fc-",
        "outputId": "f9bbe16e-5142-4a24-e7e1-f72d3dbe41cd"
      },
      "source": [
        "# lets try change one of the tensor in changeable tensor\n",
        "changeable_tensor[0] = 7 "
      ],
      "execution_count": null,
      "outputs": [
        {
          "output_type": "error",
          "ename": "TypeError",
          "evalue": "ignored",
          "traceback": [
            "\u001b[0;31m---------------------------------------------------------------------------\u001b[0m",
            "\u001b[0;31mTypeError\u001b[0m                                 Traceback (most recent call last)",
            "\u001b[0;32m<ipython-input-16-06fc0dd1c021>\u001b[0m in \u001b[0;36m<module>\u001b[0;34m()\u001b[0m\n\u001b[1;32m      1\u001b[0m \u001b[0;31m# lets try change one of the tensor in changeable tensor\u001b[0m\u001b[0;34m\u001b[0m\u001b[0;34m\u001b[0m\u001b[0;34m\u001b[0m\u001b[0m\n\u001b[0;32m----> 2\u001b[0;31m \u001b[0mchangeable_tensor\u001b[0m\u001b[0;34m[\u001b[0m\u001b[0;36m0\u001b[0m\u001b[0;34m]\u001b[0m \u001b[0;34m=\u001b[0m \u001b[0;36m7\u001b[0m\u001b[0;34m\u001b[0m\u001b[0;34m\u001b[0m\u001b[0m\n\u001b[0m",
            "\u001b[0;31mTypeError\u001b[0m: 'ResourceVariable' object does not support item assignment"
          ]
        }
      ]
    },
    {
      "cell_type": "code",
      "metadata": {
        "id": "4iu-wI77Ajsc",
        "colab": {
          "base_uri": "https://localhost:8080/"
        },
        "outputId": "ea64388a-d03f-437f-b780-fdc8aa6d6874"
      },
      "source": [
        "# try about .assign()\n",
        "changeable_tensor[0].assign(7)\n",
        "changeable_tensor"
      ],
      "execution_count": null,
      "outputs": [
        {
          "output_type": "execute_result",
          "data": {
            "text/plain": [
              "<tf.Variable 'Variable:0' shape=(2,) dtype=int32, numpy=array([7, 7], dtype=int32)>"
            ]
          },
          "metadata": {
            "tags": []
          },
          "execution_count": 19
        }
      ]
    },
    {
      "cell_type": "code",
      "metadata": {
        "id": "JUhthxEeAwms",
        "colab": {
          "base_uri": "https://localhost:8080/",
          "height": 335
        },
        "outputId": "f97e66a9-5d40-4108-b6c2-676003282fd6"
      },
      "source": [
        "# try about .assign()\n",
        "unchangeable_tensor[0].assign(7)\n",
        "unchangeable_tensor"
      ],
      "execution_count": null,
      "outputs": [
        {
          "output_type": "error",
          "ename": "AttributeError",
          "evalue": "ignored",
          "traceback": [
            "\u001b[0;31m---------------------------------------------------------------------------\u001b[0m",
            "\u001b[0;31mAttributeError\u001b[0m                            Traceback (most recent call last)",
            "\u001b[0;32m<ipython-input-20-bfbd5b329c0f>\u001b[0m in \u001b[0;36m<module>\u001b[0;34m()\u001b[0m\n\u001b[1;32m      1\u001b[0m \u001b[0;31m# try about .assign()\u001b[0m\u001b[0;34m\u001b[0m\u001b[0;34m\u001b[0m\u001b[0;34m\u001b[0m\u001b[0m\n\u001b[0;32m----> 2\u001b[0;31m \u001b[0munchangeable_tensor\u001b[0m\u001b[0;34m[\u001b[0m\u001b[0;36m0\u001b[0m\u001b[0;34m]\u001b[0m\u001b[0;34m.\u001b[0m\u001b[0massign\u001b[0m\u001b[0;34m(\u001b[0m\u001b[0;36m7\u001b[0m\u001b[0;34m)\u001b[0m\u001b[0;34m\u001b[0m\u001b[0;34m\u001b[0m\u001b[0m\n\u001b[0m\u001b[1;32m      3\u001b[0m \u001b[0munchangeable_tensor\u001b[0m\u001b[0;34m\u001b[0m\u001b[0;34m\u001b[0m\u001b[0m\n",
            "\u001b[0;32m/usr/local/lib/python3.7/dist-packages/tensorflow/python/framework/ops.py\u001b[0m in \u001b[0;36m__getattr__\u001b[0;34m(self, name)\u001b[0m\n\u001b[1;32m    399\u001b[0m         \u001b[0;32mimport\u001b[0m \u001b[0mtensorflow\u001b[0m\u001b[0;34m.\u001b[0m\u001b[0mpython\u001b[0m\u001b[0;34m.\u001b[0m\u001b[0mops\u001b[0m\u001b[0;34m.\u001b[0m\u001b[0mnumpy_ops\u001b[0m\u001b[0;34m.\u001b[0m\u001b[0mnp_config\u001b[0m\u001b[0;34m\u001b[0m\u001b[0;34m\u001b[0m\u001b[0m\n\u001b[1;32m    400\u001b[0m         np_config.enable_numpy_behavior()\"\"\".format(type(self).__name__, name))\n\u001b[0;32m--> 401\u001b[0;31m     \u001b[0mself\u001b[0m\u001b[0;34m.\u001b[0m\u001b[0m__getattribute__\u001b[0m\u001b[0;34m(\u001b[0m\u001b[0mname\u001b[0m\u001b[0;34m)\u001b[0m\u001b[0;34m\u001b[0m\u001b[0;34m\u001b[0m\u001b[0m\n\u001b[0m\u001b[1;32m    402\u001b[0m \u001b[0;34m\u001b[0m\u001b[0m\n\u001b[1;32m    403\u001b[0m   \u001b[0;34m@\u001b[0m\u001b[0mstaticmethod\u001b[0m\u001b[0;34m\u001b[0m\u001b[0;34m\u001b[0m\u001b[0m\n",
            "\u001b[0;31mAttributeError\u001b[0m: 'tensorflow.python.framework.ops.EagerTensor' object has no attribute 'assign'"
          ]
        }
      ]
    },
    {
      "cell_type": "markdown",
      "metadata": {
        "id": "GmDSpMYcBeij"
      },
      "source": [
        "creating random tensor\n",
        "\n",
        "random tensors are of some abitrary size which contain random numbers"
      ]
    },
    {
      "cell_type": "code",
      "metadata": {
        "id": "gw6nGk-RA7f5"
      },
      "source": [
        "# create two random tensor"
      ],
      "execution_count": null,
      "outputs": []
    },
    {
      "cell_type": "code",
      "metadata": {
        "colab": {
          "base_uri": "https://localhost:8080/"
        },
        "id": "2_kZ7SMWCkrz",
        "outputId": "5abafe93-db42-4fcc-8dd4-1cb4aaa88bcf"
      },
      "source": [
        "radom_1 = tf.random.Generator.from_seed(42) # set seed for reproducibility\n",
        "radom_1 = radom_1.normal(shape=(3,2))\n",
        "\n",
        "random_2 = tf.random.Generator.from_seed(42)\n",
        "random_2 = random_2.normal(shape=(3,2))\n",
        "\n",
        "radom_1, random_2, radom_1 == random_2"
      ],
      "execution_count": null,
      "outputs": [
        {
          "output_type": "execute_result",
          "data": {
            "text/plain": [
              "(<tf.Tensor: shape=(3, 2), dtype=float32, numpy=\n",
              " array([[-0.7565803 , -0.06854702],\n",
              "        [ 0.07595026, -1.2573844 ],\n",
              "        [-0.23193763, -1.8107855 ]], dtype=float32)>,\n",
              " <tf.Tensor: shape=(3, 2), dtype=float32, numpy=\n",
              " array([[-0.7565803 , -0.06854702],\n",
              "        [ 0.07595026, -1.2573844 ],\n",
              "        [-0.23193763, -1.8107855 ]], dtype=float32)>,\n",
              " <tf.Tensor: shape=(3, 2), dtype=bool, numpy=\n",
              " array([[ True,  True],\n",
              "        [ True,  True],\n",
              "        [ True,  True]])>)"
            ]
          },
          "metadata": {
            "tags": []
          },
          "execution_count": 21
        }
      ]
    },
    {
      "cell_type": "code",
      "metadata": {
        "colab": {
          "base_uri": "https://localhost:8080/"
        },
        "id": "5-BmNX6vGO-7",
        "outputId": "4a5067dd-60c7-4769-f381-c48f7db9fd32"
      },
      "source": [
        "## shuffle the elemt in a tensor(valueable for when u want to shuffle your data so the inherent doesnt effect the learning)\n",
        "not_shuffle = tf.constant([[10,7],\n",
        "                           [10,3],\n",
        "                           [2,5]])\n",
        "not_shuffle.ndim\n",
        "# shuffle our non shuffle tensor\n",
        "tf.random.shuffle(not_shuffle)\n",
        "\n"
      ],
      "execution_count": null,
      "outputs": [
        {
          "output_type": "execute_result",
          "data": {
            "text/plain": [
              "<tf.Tensor: shape=(3, 2), dtype=int32, numpy=\n",
              "array([[ 2,  5],\n",
              "       [10,  3],\n",
              "       [10,  7]], dtype=int32)>"
            ]
          },
          "metadata": {
            "tags": []
          },
          "execution_count": 22
        }
      ]
    },
    {
      "cell_type": "code",
      "metadata": {
        "colab": {
          "base_uri": "https://localhost:8080/"
        },
        "id": "C4cm5T8vHbHH",
        "outputId": "dcea25e8-3dc5-4048-9354-048e48aea444"
      },
      "source": [
        "# if we want our shuffle tensor to be in the same order , we got to use global level random seed as well as operation level random seed\n",
        "\n",
        "tf.random.set_seed(42) # global level random seed\n",
        "tf.random.shuffle(not_shuffle, seed= 42) # operation level random seed"
      ],
      "execution_count": null,
      "outputs": [
        {
          "output_type": "execute_result",
          "data": {
            "text/plain": [
              "<tf.Tensor: shape=(3, 2), dtype=int32, numpy=\n",
              "array([[10,  7],\n",
              "       [10,  3],\n",
              "       [ 2,  5]], dtype=int32)>"
            ]
          },
          "metadata": {
            "tags": []
          },
          "execution_count": 23
        }
      ]
    },
    {
      "cell_type": "code",
      "metadata": {
        "colab": {
          "base_uri": "https://localhost:8080/"
        },
        "id": "BcOpZ2FlKY_k",
        "outputId": "ea5ad4d2-7680-4506-dffc-ee9e1b7f400f"
      },
      "source": [
        "## other ways to make tensor\n",
        "tf.ones([10,7])"
      ],
      "execution_count": null,
      "outputs": [
        {
          "output_type": "execute_result",
          "data": {
            "text/plain": [
              "<tf.Tensor: shape=(10, 7), dtype=float32, numpy=\n",
              "array([[1., 1., 1., 1., 1., 1., 1.],\n",
              "       [1., 1., 1., 1., 1., 1., 1.],\n",
              "       [1., 1., 1., 1., 1., 1., 1.],\n",
              "       [1., 1., 1., 1., 1., 1., 1.],\n",
              "       [1., 1., 1., 1., 1., 1., 1.],\n",
              "       [1., 1., 1., 1., 1., 1., 1.],\n",
              "       [1., 1., 1., 1., 1., 1., 1.],\n",
              "       [1., 1., 1., 1., 1., 1., 1.],\n",
              "       [1., 1., 1., 1., 1., 1., 1.],\n",
              "       [1., 1., 1., 1., 1., 1., 1.]], dtype=float32)>"
            ]
          },
          "metadata": {
            "tags": []
          },
          "execution_count": 24
        }
      ]
    },
    {
      "cell_type": "code",
      "metadata": {
        "colab": {
          "base_uri": "https://localhost:8080/"
        },
        "id": "2PgueNgMML93",
        "outputId": "44f81a35-ed6d-4117-aaeb-3096b7def981"
      },
      "source": [
        "#create a tensor of all zeros\n",
        "tf.zeros([3,4])"
      ],
      "execution_count": null,
      "outputs": [
        {
          "output_type": "execute_result",
          "data": {
            "text/plain": [
              "<tf.Tensor: shape=(3, 4), dtype=float32, numpy=\n",
              "array([[0., 0., 0., 0.],\n",
              "       [0., 0., 0., 0.],\n",
              "       [0., 0., 0., 0.]], dtype=float32)>"
            ]
          },
          "metadata": {
            "tags": []
          },
          "execution_count": 25
        }
      ]
    },
    {
      "cell_type": "code",
      "metadata": {
        "id": "b_4pHjQHNWMN"
      },
      "source": [
        "# you can also turn numpy arrays into tensors"
      ],
      "execution_count": null,
      "outputs": []
    },
    {
      "cell_type": "markdown",
      "metadata": {
        "id": "D0k1t1C8Nqvc"
      },
      "source": [
        "### Turns numpy arrays as tensor\n",
        "\n",
        "the main diff between numpy and tensor is that tensor can b run on gpu much faster"
      ]
    },
    {
      "cell_type": "code",
      "metadata": {
        "colab": {
          "base_uri": "https://localhost:8080/"
        },
        "id": "I4LWHjuXN8WN",
        "outputId": "38b8403a-fe4a-4808-f0e3-5628e43a1b96"
      },
      "source": [
        "import numpy as np\n",
        "numpy_a = np.arange(1,25, dtype=np.int32) # create a numpy array between 1 and 25 \n",
        "numpy_a"
      ],
      "execution_count": null,
      "outputs": [
        {
          "output_type": "execute_result",
          "data": {
            "text/plain": [
              "array([ 1,  2,  3,  4,  5,  6,  7,  8,  9, 10, 11, 12, 13, 14, 15, 16, 17,\n",
              "       18, 19, 20, 21, 22, 23, 24], dtype=int32)"
            ]
          },
          "metadata": {
            "tags": []
          },
          "execution_count": 26
        }
      ]
    },
    {
      "cell_type": "code",
      "metadata": {
        "colab": {
          "base_uri": "https://localhost:8080/"
        },
        "id": "Fx1fAbwbOFsb",
        "outputId": "9da58ef6-a79e-4e39-8079-86d65e45c677"
      },
      "source": [
        "A = tf.constant(numpy_a, shape = (2,3,4\n",
        "                                ))\n",
        "A"
      ],
      "execution_count": null,
      "outputs": [
        {
          "output_type": "execute_result",
          "data": {
            "text/plain": [
              "<tf.Tensor: shape=(2, 3, 4), dtype=int32, numpy=\n",
              "array([[[ 1,  2,  3,  4],\n",
              "        [ 5,  6,  7,  8],\n",
              "        [ 9, 10, 11, 12]],\n",
              "\n",
              "       [[13, 14, 15, 16],\n",
              "        [17, 18, 19, 20],\n",
              "        [21, 22, 23, 24]]], dtype=int32)>"
            ]
          },
          "metadata": {
            "tags": []
          },
          "execution_count": 27
        }
      ]
    },
    {
      "cell_type": "markdown",
      "metadata": {
        "id": "CYvotny4QjNs"
      },
      "source": [
        "##Getting information from tensor\n",
        "#### shape = the length of each of dimen, \n",
        "#### rank = the number of tensor dim, \n",
        "#### axis = a particular dim, \n",
        "#### size = the total number of itmes in tensor."
      ]
    },
    {
      "cell_type": "code",
      "metadata": {
        "id": "QweMgHLjO44V"
      },
      "source": [
        "# create rank 4 tensor\n",
        "rank_4_tensor = tf.zeros([2,3,4,5])\n",
        "rank_4_tensor"
      ],
      "execution_count": null,
      "outputs": []
    },
    {
      "cell_type": "code",
      "metadata": {
        "id": "g50Uolw-3sJL"
      },
      "source": [
        "rank_4_tensor.shape, rank_4_tensor.ndim, tf.size(rank_4_tensor)"
      ],
      "execution_count": null,
      "outputs": []
    },
    {
      "cell_type": "markdown",
      "metadata": {
        "id": "w-7lWj9c56Jx"
      },
      "source": [
        "# Tensor can be indexing like python list"
      ]
    },
    {
      "cell_type": "code",
      "metadata": {
        "id": "K8p59qY05Ce_"
      },
      "source": [
        "rank_4_tensor[:2, :2, :2, :2]"
      ],
      "execution_count": null,
      "outputs": []
    },
    {
      "cell_type": "code",
      "metadata": {
        "id": "dIpB1vK46KQT"
      },
      "source": [
        "#rank 2 tensor\n",
        "\n",
        "rank_2_tensor = tf.constant([[10,7],\n",
        "                             [3,4]])\n",
        "rank_2_tensor.shape, rank_2_tensor.ndim, tf.size(rank_2_tensor)\n",
        "rank_2_tensor"
      ],
      "execution_count": null,
      "outputs": []
    },
    {
      "cell_type": "code",
      "metadata": {
        "id": "en8CHops87AL"
      },
      "source": [
        "# get the last elements of each row\n",
        "rank_2_tensor[:, -1]"
      ],
      "execution_count": null,
      "outputs": []
    },
    {
      "cell_type": "code",
      "metadata": {
        "id": "p1OHhcCZ9SIz"
      },
      "source": [
        "rank_2_tensor[1:2, -1]"
      ],
      "execution_count": null,
      "outputs": []
    },
    {
      "cell_type": "code",
      "metadata": {
        "id": "YVW_Z1NiDx4B"
      },
      "source": [
        "# add extra dim to rank 2 dim\n",
        "rank_3_tensor = rank_2_tensor[..., tf.newaxis]\n",
        "rank_3_tensor"
      ],
      "execution_count": null,
      "outputs": []
    },
    {
      "cell_type": "code",
      "metadata": {
        "id": "Ea2Vvm2lFG4_"
      },
      "source": [
        "# alternate to tf.newaxis\n",
        "tf.expand_dims(rank_2_tensor, axis = -1) # -1 means expand the final axis or at the end of the dim"
      ],
      "execution_count": null,
      "outputs": []
    },
    {
      "cell_type": "code",
      "metadata": {
        "id": "mPEvY-z5HJJ4"
      },
      "source": [
        "tf.expand_dims(rank_2_tensor, axis = 0) # 0 means expand the 0[index] axis."
      ],
      "execution_count": null,
      "outputs": []
    },
    {
      "cell_type": "code",
      "metadata": {
        "id": "gLqjNuy5IfDy"
      },
      "source": [
        ""
      ],
      "execution_count": null,
      "outputs": []
    },
    {
      "cell_type": "markdown",
      "metadata": {
        "id": "SpdMucFlIf1f"
      },
      "source": [
        "### Manipulating tensor (Tensor operations) bold text"
      ]
    },
    {
      "cell_type": "code",
      "metadata": {
        "id": "WtVfTjpkIpY1"
      },
      "source": [
        "# Basic operation add value to a tensor using additional operator"
      ],
      "execution_count": null,
      "outputs": []
    },
    {
      "cell_type": "code",
      "metadata": {
        "id": "pLj5TlAYI7Ti"
      },
      "source": [
        "tensor1 = tf.constant([[10,7], [31,41]])  # original tensor is unchanged\n",
        "tensor1+10"
      ],
      "execution_count": null,
      "outputs": []
    },
    {
      "cell_type": "code",
      "metadata": {
        "id": "zePgvK6YJNzV"
      },
      "source": [
        "tensor1"
      ],
      "execution_count": null,
      "outputs": []
    },
    {
      "cell_type": "code",
      "metadata": {
        "id": "bQYEO4hmJOqX"
      },
      "source": [
        "# we can use tensorflow built - in function, tf.multiply(), tf.math.add()\n",
        "tf.multiply(tensor1 , 10)"
      ],
      "execution_count": null,
      "outputs": []
    },
    {
      "cell_type": "markdown",
      "metadata": {
        "id": "hOpmu9zlKa4Y"
      },
      "source": [
        "### Metrix Multiplication (Imp)"
      ]
    },
    {
      "cell_type": "code",
      "metadata": {
        "id": "3ynqNKcCKf3b"
      },
      "source": [
        "# we can multiply metrix to another metrix by doing dot product.\n",
        "# 1st row multiply by 1st column of another metrix\n",
        "# dot product is when multiply matching members, then sum up\n",
        "# metrix to single number is elementry "
      ],
      "execution_count": null,
      "outputs": []
    },
    {
      "cell_type": "markdown",
      "metadata": {
        "id": "UqTKWR9UQOKi"
      },
      "source": [
        "##### there are two rules of tensor(or metrix) if we want to do metrix multiplication\n",
        "1. the inner dimension much match\n",
        "2. The resulting metrix has the shape of outer dimensions"
      ]
    },
    {
      "cell_type": "code",
      "metadata": {
        "id": "qcVz6YbHN5eN"
      },
      "source": [
        "print(tensor1)"
      ],
      "execution_count": null,
      "outputs": []
    },
    {
      "cell_type": "code",
      "metadata": {
        "id": "ReAbzfx3N_mF"
      },
      "source": [
        "tf.matmul(tensor1, tensor1)"
      ],
      "execution_count": null,
      "outputs": []
    },
    {
      "cell_type": "code",
      "metadata": {
        "id": "O6kfx_upOEQP"
      },
      "source": [
        "# we can do metriix multiplication in python by using \"@\" symbol\n",
        "tensor1 @ tensor1"
      ],
      "execution_count": null,
      "outputs": []
    },
    {
      "cell_type": "code",
      "metadata": {
        "id": "CJv2G0stO5NK"
      },
      "source": [
        "# create a tensor (3,2)\n",
        "x = tf.constant([[1,2], [3,4],[5,6]])\n",
        "\n",
        "y = tf.constant([[7,8],[9,10],[11,12]])\n",
        "\n",
        "x, y"
      ],
      "execution_count": null,
      "outputs": []
    },
    {
      "cell_type": "code",
      "metadata": {
        "id": "vHd8asN_PlN8"
      },
      "source": [
        "# try to multiply tensor of same shape, it can multiply and throw an error\n",
        "tf.matmul(x, y)"
      ],
      "execution_count": null,
      "outputs": []
    },
    {
      "cell_type": "code",
      "metadata": {
        "id": "23_2VxLFPy0Z"
      },
      "source": [
        "# lets try to change the shape of y tensor(metrix)\n",
        "tf.reshape(y, shape=(2,3))"
      ],
      "execution_count": null,
      "outputs": []
    },
    {
      "cell_type": "code",
      "metadata": {
        "id": "oO_2-cQzSYXc"
      },
      "source": [
        "# try to multiply x by reshaped y\n",
        "tf.matmul(x, tf.reshape(y, shape=(2,3)))"
      ],
      "execution_count": null,
      "outputs": []
    },
    {
      "cell_type": "code",
      "metadata": {
        "id": "Yt6AW1jLSpaL"
      },
      "source": [
        "# try to reshape x instead of y\n",
        "tf.matmul(tf.reshape(x, shape=(2,3)), y)"
      ],
      "execution_count": null,
      "outputs": []
    },
    {
      "cell_type": "code",
      "metadata": {
        "id": "56wv00EKTfIZ"
      },
      "source": [
        "# can we do the same with transpose\n",
        "x, tf.transpose(x), tf.reshape(x, shape=(2,3))"
      ],
      "execution_count": null,
      "outputs": []
    },
    {
      "cell_type": "markdown",
      "metadata": {
        "id": "qPuvW7ztUtMw"
      },
      "source": [
        "1. transpose flip the axis\n",
        "2. where reshape shuffle the tensor in to the shape we want"
      ]
    },
    {
      "cell_type": "code",
      "metadata": {
        "id": "wpcMrhSmUD25"
      },
      "source": [
        "# try metrix multiplication with transpose rather than reshape\n",
        "tf.matmul(tf.transpose(x), y)"
      ],
      "execution_count": null,
      "outputs": []
    },
    {
      "cell_type": "markdown",
      "metadata": {
        "id": "9ONqbddbWGj0"
      },
      "source": [
        "### Dot Product\n",
        " metrix multiplication is also referred to as the dot product.\n",
        "\n",
        " you can perform matrix multiplication using \n",
        " tf.matmul()\n",
        " tf.tensordot()"
      ]
    },
    {
      "cell_type": "code",
      "metadata": {
        "id": "r2gRdfTKWIIM"
      },
      "source": [
        "# perform a dot product on x and y (required x or y to be transposed) \n",
        "tf.tensordot(tf.transpose(x), y, axes = 1)"
      ],
      "execution_count": null,
      "outputs": []
    },
    {
      "cell_type": "code",
      "metadata": {
        "id": "cisrd0ldXBDA"
      },
      "source": [
        "# perform metric multiplication between x and y (transpose)\n",
        "\n",
        "tf.matmul(x, tf.transpose(y))"
      ],
      "execution_count": null,
      "outputs": []
    },
    {
      "cell_type": "code",
      "metadata": {
        "id": "_9PBbvB0XsSd"
      },
      "source": [
        "# perform metrix mult between x and y (reshape)\n",
        "tf.matmul(x, tf.reshape(y, shape=(2,3)))"
      ],
      "execution_count": null,
      "outputs": []
    },
    {
      "cell_type": "code",
      "metadata": {
        "id": "UDwmqtp7X5EZ"
      },
      "source": [
        "# check the value of y and reshape and transpose y\n",
        "print(\"normal y\", y)\n",
        "print(\"\\n\" )\n",
        "\n",
        "print(\"y reshape\", tf.reshape(y, shape=(2,3)), \"\\n\")\n",
        "print(\"y transpose\", tf.transpose(y))"
      ],
      "execution_count": null,
      "outputs": []
    },
    {
      "cell_type": "code",
      "metadata": {
        "id": "2Gsws-a6Yc7k"
      },
      "source": [
        ""
      ],
      "execution_count": null,
      "outputs": []
    },
    {
      "cell_type": "markdown",
      "metadata": {
        "id": "07CSybOnZTTu"
      },
      "source": [
        "### generally when performing metrix mult on two tensor one of the axes doesnt line up, you will transpose rather than reshape one of the tensor , to satisfy metrix multiplication"
      ]
    },
    {
      "cell_type": "markdown",
      "metadata": {
        "id": "2Z2wdmCMZ4K8"
      },
      "source": [
        "## changing the data type of tensor"
      ]
    },
    {
      "cell_type": "code",
      "metadata": {
        "id": "fFobLmfOZlfy"
      },
      "source": [
        "# create a new tensor with default data type (float 32)\n",
        "b = tf.constant([.7,.10])\n",
        "b.dtype"
      ],
      "execution_count": null,
      "outputs": []
    },
    {
      "cell_type": "code",
      "metadata": {
        "id": "h2_soD8BaYla"
      },
      "source": [
        "i = tf.constant([10,7])\n",
        "i.dtype"
      ],
      "execution_count": null,
      "outputs": []
    },
    {
      "cell_type": "code",
      "metadata": {
        "id": "NRYtF-oGahaJ"
      },
      "source": [
        "# change float32 to float16 (reduce precision)\n",
        "b = tf.cast(b, dtype=tf.float16)\n",
        "b.dtype"
      ],
      "execution_count": null,
      "outputs": []
    },
    {
      "cell_type": "code",
      "metadata": {
        "id": "7bkkXUSfbVJ9"
      },
      "source": [
        ""
      ],
      "execution_count": null,
      "outputs": []
    },
    {
      "cell_type": "markdown",
      "metadata": {
        "id": "kLbdk-plbtAX"
      },
      "source": [
        "### Aggregation tensor\n",
        "1. aggregation tensor = condensing them from multiple values down to smaller amount of value"
      ]
    },
    {
      "cell_type": "code",
      "metadata": {
        "id": "QS5q6i0CbsfX"
      },
      "source": [
        "\n",
        "d = tf.constant([-7, -10])\n",
        "d"
      ],
      "execution_count": null,
      "outputs": []
    },
    {
      "cell_type": "code",
      "metadata": {
        "id": "CPgiNiA1cbPd"
      },
      "source": [
        "# get the absolute values = takes the all negative number of one tensor and turn them into positive numbers\n",
        "tf.abs(d)"
      ],
      "execution_count": null,
      "outputs": []
    },
    {
      "cell_type": "markdown",
      "metadata": {
        "id": "dEfDfqdGd5sW"
      },
      "source": [
        "### form of aggregations\n",
        "* min\n",
        "* max\n",
        "* mean of tensor\n",
        "* sum"
      ]
    },
    {
      "cell_type": "code",
      "metadata": {
        "id": "inXz4m8aeJGd"
      },
      "source": [
        "e = tf.constant(np.random.randint(0,100, size = 50))\n",
        "e"
      ],
      "execution_count": null,
      "outputs": []
    },
    {
      "cell_type": "code",
      "metadata": {
        "id": "GgyFwHk6fO0d"
      },
      "source": [
        "tf.size(e), e.ndim, e.shape"
      ],
      "execution_count": null,
      "outputs": []
    },
    {
      "cell_type": "code",
      "metadata": {
        "id": "9Ut1j2pjfVLk"
      },
      "source": [
        " #find the minimum\n",
        " tf.reduce_min(e)"
      ],
      "execution_count": null,
      "outputs": []
    },
    {
      "cell_type": "code",
      "metadata": {
        "id": "Gh1Ou-8Kfpo_"
      },
      "source": [
        "#find the maximum\n",
        "tf.reduce_max(e)"
      ],
      "execution_count": null,
      "outputs": []
    },
    {
      "cell_type": "code",
      "metadata": {
        "id": "kyQZ3Comf4fr"
      },
      "source": [
        "# find the mean\n",
        "tf.reduce_mean(e)"
      ],
      "execution_count": null,
      "outputs": []
    },
    {
      "cell_type": "code",
      "metadata": {
        "id": "UL8qPGKXgAcf"
      },
      "source": [
        "# sum of tensor\n",
        "tf.reduce_sum(e)"
      ],
      "execution_count": null,
      "outputs": []
    },
    {
      "cell_type": "code",
      "metadata": {
        "id": "0tw6Ciu2gFhP"
      },
      "source": [
        "# to find variance of tensor\n",
        "import tensorflow_probability as tfp # to find variance of tensor, we need access to tensorflow probability\n",
        "tfp.stats.variance(e)"
      ],
      "execution_count": null,
      "outputs": []
    },
    {
      "cell_type": "code",
      "metadata": {
        "id": "v_0h_fIdEj7y"
      },
      "source": [
        "# find std of tensor, to find std, we need to convert out tensor to float type\n",
        "tf.math.reduce_std(tf.cast(e, dtype=tf.float32))"
      ],
      "execution_count": null,
      "outputs": []
    },
    {
      "cell_type": "markdown",
      "metadata": {
        "id": "oOQo-ZpZQMb9"
      },
      "source": [
        "### Find the positional minimum and maximum"
      ]
    },
    {
      "cell_type": "code",
      "metadata": {
        "id": "yTDlOlR2GEp2"
      },
      "source": [
        "# find the positional minimum and maximum ,create new tensor\n",
        "\n",
        "tf.random.set_seed(42)\n",
        "f = tf.random.uniform(shape=[50])\n",
        "f"
      ],
      "execution_count": null,
      "outputs": []
    },
    {
      "cell_type": "code",
      "metadata": {
        "id": "kiDU17EjP7II"
      },
      "source": [
        "# find the positional maximum\n",
        "tf.argmax(f)"
      ],
      "execution_count": null,
      "outputs": []
    },
    {
      "cell_type": "code",
      "metadata": {
        "id": "ZSgGmOLYQik7"
      },
      "source": [
        "# index of the largest value\n",
        "f[tf.argmax(f)]"
      ],
      "execution_count": null,
      "outputs": []
    },
    {
      "cell_type": "code",
      "metadata": {
        "id": "AaXb1jb3Qwu1"
      },
      "source": [
        "tf.reduce_max(f)"
      ],
      "execution_count": null,
      "outputs": []
    },
    {
      "cell_type": "code",
      "metadata": {
        "id": "y1Or-5mYRGdh"
      },
      "source": [
        "# find the poesitional minimum\n",
        "tf.argmin(f)"
      ],
      "execution_count": null,
      "outputs": []
    },
    {
      "cell_type": "code",
      "metadata": {
        "id": "nYQ3Qe1sRRa8"
      },
      "source": [
        "f[tf.argmin(f)]"
      ],
      "execution_count": null,
      "outputs": []
    },
    {
      "cell_type": "markdown",
      "metadata": {
        "id": "6_owLfcXRpn3"
      },
      "source": [
        "# Squeezing a tensor (removing all single dimensions)"
      ]
    },
    {
      "cell_type": "code",
      "metadata": {
        "id": "wN1fMPrBRUk6"
      },
      "source": [
        "# create a tensor  to get start\n",
        "tf.random.set_seed(42)\n",
        "g = tf.constant(tf.random.uniform(shape=[50]), shape=(1,1,1,1,50))\n",
        "g"
      ],
      "execution_count": null,
      "outputs": []
    },
    {
      "cell_type": "code",
      "metadata": {
        "colab": {
          "base_uri": "https://localhost:8080/"
        },
        "id": "AQ455cNKSE9k",
        "outputId": "8129875d-e1a2-4cfb-db1c-cdb445b39703"
      },
      "source": [
        "g_squeeze =  tf.squeeze(g)\n",
        "g_squeeze, g.shape"
      ],
      "execution_count": null,
      "outputs": [
        {
          "output_type": "execute_result",
          "data": {
            "text/plain": [
              "(<tf.Tensor: shape=(50,), dtype=float32, numpy=\n",
              " array([0.6645621 , 0.44100678, 0.3528825 , 0.46448255, 0.03366041,\n",
              "        0.68467236, 0.74011743, 0.8724445 , 0.22632635, 0.22319686,\n",
              "        0.3103881 , 0.7223358 , 0.13318717, 0.5480639 , 0.5746088 ,\n",
              "        0.8996835 , 0.00946367, 0.5212307 , 0.6345445 , 0.1993283 ,\n",
              "        0.72942245, 0.54583454, 0.10756552, 0.6767061 , 0.6602763 ,\n",
              "        0.33695042, 0.60141766, 0.21062577, 0.8527372 , 0.44062173,\n",
              "        0.9485276 , 0.23752594, 0.81179297, 0.5263394 , 0.494308  ,\n",
              "        0.21612847, 0.8457197 , 0.8718841 , 0.3083862 , 0.6868038 ,\n",
              "        0.23764038, 0.7817228 , 0.9671384 , 0.06870162, 0.79873943,\n",
              "        0.66028714, 0.5871513 , 0.16461694, 0.7381023 , 0.32054043],\n",
              "       dtype=float32)>, TensorShape([1, 1, 1, 1, 50]))"
            ]
          },
          "metadata": {
            "tags": []
          },
          "execution_count": 41
        }
      ]
    },
    {
      "cell_type": "code",
      "metadata": {
        "id": "94PA8Z7vTDhc"
      },
      "source": [
        ""
      ],
      "execution_count": null,
      "outputs": []
    },
    {
      "cell_type": "markdown",
      "metadata": {
        "id": "aV70FtieiBbP"
      },
      "source": [
        "## One-Hot-Encoding"
      ]
    },
    {
      "cell_type": "code",
      "metadata": {
        "colab": {
          "base_uri": "https://localhost:8080/"
        },
        "id": "Sbii3x6HiEtj",
        "outputId": "509d66f4-ad5f-4deb-f0fd-fb44cbd2e523"
      },
      "source": [
        "some_list = [1,2,1,4]\n",
        "\n",
        "tf.one_hot(some_list, depth=4)"
      ],
      "execution_count": null,
      "outputs": [
        {
          "output_type": "execute_result",
          "data": {
            "text/plain": [
              "<tf.Tensor: shape=(4, 4), dtype=float32, numpy=\n",
              "array([[0., 1., 0., 0.],\n",
              "       [0., 0., 1., 0.],\n",
              "       [0., 1., 0., 0.],\n",
              "       [0., 0., 0., 0.]], dtype=float32)>"
            ]
          },
          "metadata": {
            "tags": []
          },
          "execution_count": 29
        }
      ]
    },
    {
      "cell_type": "code",
      "metadata": {
        "colab": {
          "base_uri": "https://localhost:8080/"
        },
        "id": "5hODcge2iYdQ",
        "outputId": "13e0a1c9-693c-40d0-8e56-d475045aadf0"
      },
      "source": [
        "#specify custom values for one hot - endcoder\n",
        "tf.one_hot(some_list, depth=4, on_value='i like artificial intelligent', off_value='i didnt like to talk to girl')"
      ],
      "execution_count": null,
      "outputs": [
        {
          "output_type": "execute_result",
          "data": {
            "text/plain": [
              "<tf.Tensor: shape=(4, 4), dtype=string, numpy=\n",
              "array([[b'i didnt like to talk to girl',\n",
              "        b'i like artificial intelligent',\n",
              "        b'i didnt like to talk to girl', b'i didnt like to talk to girl'],\n",
              "       [b'i didnt like to talk to girl', b'i didnt like to talk to girl',\n",
              "        b'i like artificial intelligent',\n",
              "        b'i didnt like to talk to girl'],\n",
              "       [b'i didnt like to talk to girl',\n",
              "        b'i like artificial intelligent',\n",
              "        b'i didnt like to talk to girl', b'i didnt like to talk to girl'],\n",
              "       [b'i didnt like to talk to girl', b'i didnt like to talk to girl',\n",
              "        b'i didnt like to talk to girl', b'i didnt like to talk to girl']],\n",
              "      dtype=object)>"
            ]
          },
          "metadata": {
            "tags": []
          },
          "execution_count": 31
        }
      ]
    },
    {
      "cell_type": "markdown",
      "metadata": {
        "id": "n5q9-EEJj049"
      },
      "source": [
        "# math function\n",
        "* squaring\n",
        "* log\n",
        "* square root"
      ]
    },
    {
      "cell_type": "code",
      "metadata": {
        "colab": {
          "base_uri": "https://localhost:8080/"
        },
        "id": "kbLQH2EQjUTO",
        "outputId": "a100de4b-ddf5-439b-c944-1b9d39627c70"
      },
      "source": [
        "h = tf.range(1,10)\n",
        "h"
      ],
      "execution_count": null,
      "outputs": [
        {
          "output_type": "execute_result",
          "data": {
            "text/plain": [
              "<tf.Tensor: shape=(9,), dtype=int32, numpy=array([1, 2, 3, 4, 5, 6, 7, 8, 9], dtype=int32)>"
            ]
          },
          "metadata": {
            "tags": []
          },
          "execution_count": 33
        }
      ]
    },
    {
      "cell_type": "code",
      "metadata": {
        "colab": {
          "base_uri": "https://localhost:8080/"
        },
        "id": "jxl3PtKZkFxH",
        "outputId": "793182dc-74ee-46e9-d8fc-7a458a3aed9d"
      },
      "source": [
        "tf.square(h)"
      ],
      "execution_count": null,
      "outputs": [
        {
          "output_type": "execute_result",
          "data": {
            "text/plain": [
              "<tf.Tensor: shape=(9,), dtype=int32, numpy=array([ 1,  4,  9, 16, 25, 36, 49, 64, 81], dtype=int32)>"
            ]
          },
          "metadata": {
            "tags": []
          },
          "execution_count": 34
        }
      ]
    },
    {
      "cell_type": "code",
      "metadata": {
        "colab": {
          "base_uri": "https://localhost:8080/"
        },
        "id": "4W-7QpCBkJ5U",
        "outputId": "460b20ad-7748-44f7-d12c-a298aad368e7"
      },
      "source": [
        "tf.sqrt(tf.cast(h, dtype='float'))"
      ],
      "execution_count": null,
      "outputs": [
        {
          "output_type": "execute_result",
          "data": {
            "text/plain": [
              "<tf.Tensor: shape=(9,), dtype=float32, numpy=\n",
              "array([0.99999994, 1.4142134 , 1.7320508 , 1.9999999 , 2.236068  ,\n",
              "       2.4494896 , 2.6457512 , 2.8284268 , 3.        ], dtype=float32)>"
            ]
          },
          "metadata": {
            "tags": []
          },
          "execution_count": 37
        }
      ]
    },
    {
      "cell_type": "code",
      "metadata": {
        "colab": {
          "base_uri": "https://localhost:8080/"
        },
        "id": "QgX-GwQjkNxt",
        "outputId": "5e9d7acf-4f0b-4061-c335-ddac0fdc8e9e"
      },
      "source": [
        "tf.math.log(tf.cast(h, dtype='float'))"
      ],
      "execution_count": null,
      "outputs": [
        {
          "output_type": "execute_result",
          "data": {
            "text/plain": [
              "<tf.Tensor: shape=(9,), dtype=float32, numpy=\n",
              "array([0.       , 0.6931472, 1.0986123, 1.3862944, 1.609438 , 1.7917595,\n",
              "       1.9459102, 2.0794415, 2.1972246], dtype=float32)>"
            ]
          },
          "metadata": {
            "tags": []
          },
          "execution_count": 39
        }
      ]
    },
    {
      "cell_type": "code",
      "metadata": {
        "id": "TTb_Wo1wkzSe"
      },
      "source": [
        ""
      ],
      "execution_count": null,
      "outputs": []
    },
    {
      "cell_type": "markdown",
      "metadata": {
        "id": "8ogj6KfklJkS"
      },
      "source": [
        "# tensorflow and numpy\n",
        "\n",
        "## tensorflow beautifully interact with numpy arrays"
      ]
    },
    {
      "cell_type": "code",
      "metadata": {
        "id": "67Y-LUl2lLzh"
      },
      "source": [
        "j = tf.constant(np.array([3., 7., 10.]))"
      ],
      "execution_count": null,
      "outputs": []
    },
    {
      "cell_type": "code",
      "metadata": {
        "colab": {
          "base_uri": "https://localhost:8080/"
        },
        "id": "QtbsYwQtlrxt",
        "outputId": "c2930a36-a756-4ff4-9c29-aaad4b39b112"
      },
      "source": [
        "# convert tensor back to numpy\n",
        "np.array(j)"
      ],
      "execution_count": null,
      "outputs": [
        {
          "output_type": "execute_result",
          "data": {
            "text/plain": [
              "array([ 3.,  7., 10.])"
            ]
          },
          "metadata": {
            "tags": []
          },
          "execution_count": 42
        }
      ]
    },
    {
      "cell_type": "code",
      "metadata": {
        "colab": {
          "base_uri": "https://localhost:8080/"
        },
        "id": "VLdPgsbGmBI3",
        "outputId": "891068dc-a8c4-4730-ae1b-4633ace5c7a7"
      },
      "source": [
        "# the default types of each are slightly different\n",
        "numpy_j = tf.constant(np.array([3.,7.,10.]))\n",
        "\n",
        "tesor_j = tf.constant([3., 7., 10. ])\n",
        "\n",
        "numpy_j.dtype, tesor_j.dtype"
      ],
      "execution_count": null,
      "outputs": [
        {
          "output_type": "execute_result",
          "data": {
            "text/plain": [
              "(tf.float64, tf.float32)"
            ]
          },
          "metadata": {
            "tags": []
          },
          "execution_count": 44
        }
      ]
    },
    {
      "cell_type": "code",
      "metadata": {
        "id": "-VtohrhPn3Ah"
      },
      "source": [
        ""
      ],
      "execution_count": null,
      "outputs": []
    }
  ]
}